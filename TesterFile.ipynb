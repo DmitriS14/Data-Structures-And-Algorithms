{
  "nbformat": 4,
  "nbformat_minor": 0,
  "metadata": {
    "colab": {
      "provenance": [],
      "include_colab_link": true
    },
    "kernelspec": {
      "name": "python3",
      "display_name": "Python 3"
    },
    "language_info": {
      "name": "python"
    }
  },
  "cells": [
    {
      "cell_type": "markdown",
      "metadata": {
        "id": "view-in-github",
        "colab_type": "text"
      },
      "source": [
        "<a href=\"https://colab.research.google.com/github/DmitriS14/Data-Structures-And-Algorithms/blob/main/TesterFile.ipynb\" target=\"_parent\"><img src=\"https://colab.research.google.com/assets/colab-badge.svg\" alt=\"Open In Colab\"/></a>"
      ]
    },
    {
      "cell_type": "code",
      "execution_count": 5,
      "metadata": {
        "colab": {
          "base_uri": "https://localhost:8080/"
        },
        "id": "e2XVahOTBUc2",
        "outputId": "d48f35c5-eff1-4777-cc3f-74bf61a8295f"
      },
      "outputs": [
        {
          "output_type": "stream",
          "name": "stdout",
          "text": [
            "Now presenting *dula peep*\n",
            "https://www.youtube.com/watch?v=57bNHupO3MU\n"
          ]
        }
      ],
      "source": [
        "print(\"Now presenting *dula peep*\")\n",
        "print(\"https://www.youtube.com/watch?v=57bNHupO3MU\")"
      ]
    }
  ]
}